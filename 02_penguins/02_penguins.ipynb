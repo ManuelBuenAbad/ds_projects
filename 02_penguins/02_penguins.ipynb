{
 "cells": [
  {
   "cell_type": "markdown",
   "id": "c981bcbe",
   "metadata": {},
   "source": [
    "# TITLE\n",
    "\n",
    "Brief description."
   ]
  },
  {
   "cell_type": "markdown",
   "id": "652c4b43",
   "metadata": {},
   "source": [
    "## Loading Modules"
   ]
  },
  {
   "cell_type": "markdown",
   "id": "ebbceb07",
   "metadata": {},
   "source": [
    "### Basic"
   ]
  },
  {
   "cell_type": "code",
   "execution_count": null,
   "id": "7a03af4c-6cff-4cf2-b0d8-e702775ce756",
   "metadata": {
    "tags": []
   },
   "outputs": [],
   "source": [
    "import numpy as np\n",
    "\n",
    "from math import pi\n",
    "\n",
    "# from scipy import stats\n",
    "# from scipy.interpolate import interp1d\n",
    "# from scipy.optimize import curve_fit, brentq\n",
    "# from scipy.integrate import quad, simps"
   ]
  },
  {
   "cell_type": "markdown",
   "id": "f99049a8",
   "metadata": {},
   "source": [
    "### Data Handling and Cleaning"
   ]
  },
  {
   "cell_type": "code",
   "execution_count": null,
   "id": "55b3286c",
   "metadata": {},
   "outputs": [],
   "source": [
    "import pandas as pd\n",
    "\n",
    "# import datetime as dt\n",
    "# import charset_normalizer\n",
    "# import fuzzywuzzy as fwz"
   ]
  },
  {
   "cell_type": "markdown",
   "id": "df0f2422",
   "metadata": {},
   "source": [
    "### Data Visualization and Analysis"
   ]
  },
  {
   "cell_type": "code",
   "execution_count": null,
   "id": "7ef0e486",
   "metadata": {},
   "outputs": [],
   "source": [
    "import matplotlib.pyplot as plt\n",
    "import seaborn as sns\n",
    "\n",
    "from dataprep.eda import create_report"
   ]
  },
  {
   "cell_type": "code",
   "execution_count": null,
   "id": "e3b8c2b5",
   "metadata": {},
   "outputs": [],
   "source": [
    "sns.set_style(\"whitegrid\")"
   ]
  },
  {
   "cell_type": "code",
   "execution_count": null,
   "id": "ab463f81",
   "metadata": {},
   "outputs": [],
   "source": [
    "# plt.rcParams['font.family'] = 'Times New Roman'\n",
    "# plt.rcParams['mathtext.fontset'] = 'stix'#['dejavusans', 'dejavuserif', 'cm', 'stix', 'stixsans', 'custom']\n",
    "# font = {'family': 'Times New Roman',\n",
    "#         #'color':  'black',\n",
    "#         'weight': 'normal',\n",
    "#         'size': 14,\n",
    "#         }\n",
    "\n",
    "# aesthetic definitions for the plots\n",
    "# font = {'size'   : 16, 'family':'STIXGeneral'}\n",
    "# axislabelfontsize='large'\n",
    "# matplotlib.rc('font', **font)\n",
    "# matplotlib.mathtext.rcParams['legend.fontsize']='medium'\n",
    "# plt.rcParams[\"figure.figsize\"] = [8.0,6.0]\n",
    "\n",
    "# %config InlineBackend.figure_format = \"retina\"\n",
    "# plt.rcParams['figure.figsize'] = (13, 8)\n",
    "# plt.rcParams['font.family'] = 'STIXGeneral'\n",
    "# matplotlib.mathtext.rcParams['legend.fontsize']='medium'\n",
    "# plt.rcParams['font.serif'] = ['New Times Roman']\n",
    "# plt.rc('text', usetex=True)"
   ]
  },
  {
   "cell_type": "markdown",
   "id": "3626aa77",
   "metadata": {},
   "source": [
    "### Machine Learning Explainability"
   ]
  },
  {
   "cell_type": "code",
   "execution_count": null,
   "id": "00b2f3a0",
   "metadata": {},
   "outputs": [],
   "source": [
    "# import shap\n",
    "# import eli5\n",
    "# import graphviz"
   ]
  }
 ],
 "metadata": {
  "kernelspec": {
   "display_name": "Python 3 (ipykernel)",
   "language": "python",
   "name": "python3"
  },
  "language_info": {
   "codemirror_mode": {
    "name": "ipython",
    "version": 3
   },
   "file_extension": ".py",
   "mimetype": "text/x-python",
   "name": "python",
   "nbconvert_exporter": "python",
   "pygments_lexer": "ipython3",
   "version": "3.11.8"
  }
 },
 "nbformat": 4,
 "nbformat_minor": 5
}
