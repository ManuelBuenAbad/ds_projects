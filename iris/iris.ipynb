{
 "cells": [
  {
   "cell_type": "code",
   "execution_count": 48,
   "id": "7a03af4c-6cff-4cf2-b0d8-e702775ce756",
   "metadata": {
    "tags": []
   },
   "outputs": [],
   "source": [
    "import numpy as np\n",
    "import matplotlib\n",
    "import matplotlib.pyplot as plt\n",
    "from math import pi\n",
    "\n",
    "from scipy.interpolate import interp1d\n",
    "from scipy.optimize import curve_fit, brentq\n",
    "from scipy.integrate import quad, simps\n",
    "\n",
    "plt.rcParams['font.family'] = 'Times New Roman'\n",
    "plt.rcParams['mathtext.fontset'] = 'stix'#['dejavusans', 'dejavuserif', 'cm', 'stix', 'stixsans', 'custom']\n",
    "font = {'family': 'Times New Roman',\n",
    "        #'color':  'black',\n",
    "        'weight': 'normal',\n",
    "        'size': 14,\n",
    "        }"
   ]
  },
  {
   "cell_type": "code",
   "execution_count": 2,
   "id": "7850cd43-d8cb-433e-a9c0-03a8cc3977c8",
   "metadata": {},
   "outputs": [],
   "source": [
    "# aesthetic definitions for the plots\n",
    "# font = {'size'   : 16, 'family':'STIXGeneral'}\n",
    "# axislabelfontsize='large'\n",
    "# matplotlib.rc('font', **font)\n",
    "# matplotlib.mathtext.rcParams['legend.fontsize']='medium'\n",
    "# plt.rcParams[\"figure.figsize\"] = [8.0,6.0]\n",
    "\n",
    "%config InlineBackend.figure_format = \"retina\"\n",
    "plt.rcParams['figure.figsize'] = (13, 8)\n",
    "plt.rcParams['font.family'] = 'STIXGeneral'\n",
    "matplotlib.mathtext.rcParams['legend.fontsize']='medium'\n",
    "plt.rcParams['font.serif'] = ['New Times Roman']\n",
    "# plt.rc('text', usetex=True)"
   ]
  }
 ],
 "metadata": {
  "kernelspec": {
   "display_name": "Python 3 (ipykernel)",
   "language": "python",
   "name": "python3"
  },
  "language_info": {
   "codemirror_mode": {
    "name": "ipython",
    "version": 3
   },
   "file_extension": ".py",
   "mimetype": "text/x-python",
   "name": "python",
   "nbconvert_exporter": "python",
   "pygments_lexer": "ipython3",
   "version": "3.11.8"
  }
 },
 "nbformat": 4,
 "nbformat_minor": 5
}
